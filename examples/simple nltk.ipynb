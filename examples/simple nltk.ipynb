{
 "cells": [
  {
   "cell_type": "markdown",
   "id": "ea4b6690-05b1-4c24-b98d-b79d7f40a7f9",
   "metadata": {},
   "source": [
    "# simple nltk usag"
   ]
  },
  {
   "cell_type": "code",
   "execution_count": 11,
   "id": "5db41254-b614-41f8-9b51-d916d8b862c2",
   "metadata": {},
   "outputs": [
    {
     "name": "stderr",
     "output_type": "stream",
     "text": [
      "[nltk_data] Downloading package vader_lexicon to\n",
      "[nltk_data]     /home/marinee/nltk_data...\n",
      "[nltk_data]   Package vader_lexicon is already up-to-date!\n"
     ]
    },
    {
     "data": {
      "text/plain": [
       "True"
      ]
     },
     "execution_count": 11,
     "metadata": {},
     "output_type": "execute_result"
    }
   ],
   "source": [
    "# for use vader lexicon\n",
    "import nltk\n",
    "nltk.download('vader_lexicon')"
   ]
  },
  {
   "cell_type": "code",
   "execution_count": 12,
   "id": "88ada034-9b51-4291-93c1-b2a1191e233a",
   "metadata": {},
   "outputs": [],
   "source": [
    "from nltk.sentiment.vader import SentimentIntensityAnalyzer as Vader\n",
    "\n",
    "Analyst = Vader()"
   ]
  },
  {
   "cell_type": "markdown",
   "id": "0a05dd52-799c-435e-91cd-5ee639b136fe",
   "metadata": {},
   "source": [
    "# sad case"
   ]
  },
  {
   "cell_type": "code",
   "execution_count": 13,
   "id": "b9e198e4-7264-46c3-8b98-aea5b666227b",
   "metadata": {},
   "outputs": [],
   "source": [
    "# lady antebellum - need you now\n",
    "eng_sad_sentence = \"\"\"\n",
    "Picture perfect memories\n",
    "Scattered all around the floor\n",
    "Reaching for the phone cause\n",
    "I can't fight it anymore.\n",
    "And I wonder if I ever cross your mind.\n",
    "For me it happens all the time.\n",
    "It's a quarter after one.\n",
    "I'm all alone and I need you now.\n",
    "Said I wouldn't call, but I lost all control\n",
    "And I need you now.\n",
    "And I don't know how I can do without\n",
    "I just need you now.\n",
    "Another shot of whiskey\n",
    "Can't stop looking at the door.\n",
    "Wishing you'd come sweeping in the way you did before.\n",
    "And I wonder if I ever cross your mind.\n",
    "For me it happens all the time.\n",
    "It's a quarter after one.\n",
    "I'm a little drunk and I need you now.\n",
    "Said I wouldn't call, but I lost all control\n",
    "And I need you now.\n",
    "And I don't know how I can do\n",
    "\"\"\"\n",
    "simple_score = Analyst.polarity_scores(eng_sad_sentence)"
   ]
  },
  {
   "cell_type": "code",
   "execution_count": 14,
   "id": "f31af07c-aee0-405f-948c-657eab8a4e6e",
   "metadata": {},
   "outputs": [
    {
     "name": "stdout",
     "output_type": "stream",
     "text": [
      "{'neg': 0.031, 'neu': 0.86, 'pos': 0.11, 'compound': 0.8294}\n"
     ]
    }
   ],
   "source": [
    "print(simple_score)"
   ]
  },
  {
   "cell_type": "code",
   "execution_count": 15,
   "id": "e3bdc1f9-7130-4f8b-97fc-e87125e96024",
   "metadata": {},
   "outputs": [],
   "source": [
    "# 김광석 - 서른즈음에\n",
    "kor_sad_sentence = \"\"\"\n",
    "Another day goes away\n",
    "Like the smoke of a cigarette\n",
    "In my small memory\n",
    "What are you living with\n",
    "Getting further and farther away\n",
    "I thought you were a young man staying\n",
    "In my empty heart\n",
    "I can't find anything more\n",
    "The seasons come back but\n",
    "Where is my love that has gone away\n",
    "I didn't even let go\n",
    "I'm not even leaving\n",
    "I get forgotten little by little\n",
    "I thought it was a staying love\n",
    "Another day goes away\n",
    "You're living with goodbye every day\n",
    "The seasons come back but\n",
    "Where is my love that has gone away\n",
    "I\n",
    "\"\"\"\n",
    "simple_score = Analyst.polarity_scores(kor_sad_sentence)"
   ]
  },
  {
   "cell_type": "code",
   "execution_count": 16,
   "id": "d5f94855-7d64-4526-bc7b-001bf63fc7c5",
   "metadata": {},
   "outputs": [
    {
     "name": "stdout",
     "output_type": "stream",
     "text": [
      "{'neg': 0.035, 'neu': 0.788, 'pos': 0.177, 'compound': 0.9607}\n"
     ]
    }
   ],
   "source": [
    "print(simple_score)"
   ]
  },
  {
   "cell_type": "code",
   "execution_count": 17,
   "id": "819438b9-7f71-4693-a017-08f0428ebbb4",
   "metadata": {},
   "outputs": [
    {
     "name": "stdout",
     "output_type": "stream",
     "text": [
      "{'neg': 0.0, 'neu': 0.815, 'pos': 0.185, 'compound': 0.3612}\n"
     ]
    }
   ],
   "source": [
    "short_sad_sentence = \"\"\"\n",
    "Dad did drugs. Mom is a prostitute. I'm in a situation like Cheonae orphan.\n",
    "\"\"\"\n",
    "simple_score = Analyst.polarity_scores(short_sad_sentence)\n",
    "print(simple_score)"
   ]
  },
  {
   "cell_type": "code",
   "execution_count": 20,
   "id": "d946ef92-21fe-477b-bccb-a6b751bc60aa",
   "metadata": {},
   "outputs": [],
   "source": [
    "def get_sentence_score(line: str):\n",
    "    Analyst = Vader()\n",
    "    score = Analyst.polarity_scores(line)\n",
    "    return score"
   ]
  },
  {
   "cell_type": "code",
   "execution_count": 33,
   "id": "65a0511c-1efb-499d-82f2-5bdbe687a41e",
   "metadata": {},
   "outputs": [],
   "source": [
    "def get_do():\n",
    "    lines = kor_sad_sentence.split('\\n')\n",
    "    score_set = [get_sentence_score(line) for line in lines]\n",
    "\n",
    "    get_neg = lambda x: x['neg']\n",
    "    get_neu = lambda x: x['neu']\n",
    "    get_pos = lambda x: x['pos']\n",
    "    get_comp = lambda x: x['compound']\n",
    "\n",
    "    negative_set = {'negative': sum(list(map(get_neg, score_set)))}\n",
    "    neural_set = {'neural': sum(list(map(get_neu, score_set)))}\n",
    "    positive_set = {'positive': sum(list(map(get_pos, score_set)))}\n",
    "    compound_set = {'compound': sum(list(map(get_comp, score_set)))}\n",
    "\n",
    "    display(\n",
    "        negative_set,\n",
    "        positive_set,\n",
    "        neural_set,\n",
    "        compound_set,\n",
    "    )"
   ]
  },
  {
   "cell_type": "code",
   "execution_count": 35,
   "id": "4d64476b-1076-4839-8271-576f20f19dfa",
   "metadata": {},
   "outputs": [],
   "source": [
    "def get_do2():\n",
    "    lines = eng_sad_sentence.split('\\n')\n",
    "    score_set = [get_sentence_score(line) for line in lines]\n",
    "\n",
    "    get_neg = lambda x: x['neg']\n",
    "    get_neu = lambda x: x['neu']\n",
    "    get_pos = lambda x: x['pos']\n",
    "    get_comp = lambda x: x['compound']\n",
    "\n",
    "    negative_set = {'negative': sum(list(map(get_neg, score_set)))}\n",
    "    neural_set = {'neural': sum(list(map(get_neu, score_set)))}\n",
    "    positive_set = {'positive': sum(list(map(get_pos, score_set)))}\n",
    "    compound_set = {'compound': sum(list(map(get_comp, score_set)))}\n",
    "\n",
    "    display(\n",
    "        negative_set,\n",
    "        positive_set,\n",
    "        neural_set,\n",
    "        compound_set,\n",
    "    )"
   ]
  },
  {
   "cell_type": "code",
   "execution_count": 34,
   "id": "f7c95334-d3cf-40f9-9f72-fc33f8b21fd7",
   "metadata": {},
   "outputs": [
    {
     "data": {
      "text/plain": [
       "{'negative': 0.6970000000000001}"
      ]
     },
     "metadata": {},
     "output_type": "display_data"
    },
    {
     "data": {
      "text/plain": [
       "{'positive': 1.647}"
      ]
     },
     "metadata": {},
     "output_type": "display_data"
    },
    {
     "data": {
      "text/plain": [
       "{'neural': 15.656}"
      ]
     },
     "metadata": {},
     "output_type": "display_data"
    },
    {
     "data": {
      "text/plain": [
       "{'compound': 1.8433000000000002}"
      ]
     },
     "metadata": {},
     "output_type": "display_data"
    }
   ],
   "source": [
    "get_do()"
   ]
  },
  {
   "cell_type": "code",
   "execution_count": 36,
   "id": "9982eb48-bc67-4fba-99c6-5fed73079f5c",
   "metadata": {},
   "outputs": [
    {
     "data": {
      "text/plain": [
       "{'negative': 0.51}"
      ]
     },
     "metadata": {},
     "output_type": "display_data"
    },
    {
     "data": {
      "text/plain": [
       "{'positive': 2.406}"
      ]
     },
     "metadata": {},
     "output_type": "display_data"
    },
    {
     "data": {
      "text/plain": [
       "{'neural': 19.083999999999996}"
      ]
     },
     "metadata": {},
     "output_type": "display_data"
    },
    {
     "data": {
      "text/plain": [
       "{'compound': 1.6898}"
      ]
     },
     "metadata": {},
     "output_type": "display_data"
    }
   ],
   "source": [
    "get_do2()"
   ]
  },
  {
   "cell_type": "markdown",
   "id": "33fc3af2-a93b-4123-8b2c-5f9ec2c351e8",
   "metadata": {},
   "source": [
    "# good case"
   ]
  },
  {
   "cell_type": "code",
   "execution_count": 8,
   "id": "115fce5c-d14b-4377-a66f-bb36994a5218",
   "metadata": {},
   "outputs": [],
   "source": [
    "eng_good_sentence = \"\"\"\n",
    "I got promoted today. I did a great job. Now everyone will acknowledge and look up to me. I'm the best\n",
    "\"\"\"\n",
    "simple_score = Analyst.polarity_scores(eng_good_sentence)"
   ]
  },
  {
   "cell_type": "code",
   "execution_count": 9,
   "id": "0fdc29fc-e870-45b4-ac1a-de4a0243a39c",
   "metadata": {},
   "outputs": [
    {
     "name": "stdout",
     "output_type": "stream",
     "text": [
      "{'neg': 0.0, 'neu': 0.575, 'pos': 0.425, 'compound': 0.9022}\n"
     ]
    }
   ],
   "source": [
    "print(simple_score)"
   ]
  },
  {
   "cell_type": "code",
   "execution_count": null,
   "id": "7c91ed65-c8ef-4dc1-b080-401964d47216",
   "metadata": {},
   "outputs": [],
   "source": []
  },
  {
   "cell_type": "code",
   "execution_count": null,
   "id": "d7f38df4-7735-4ff8-82e5-a1e047139738",
   "metadata": {},
   "outputs": [],
   "source": []
  },
  {
   "cell_type": "code",
   "execution_count": null,
   "id": "c778aaeb-2058-42f2-869b-9812716a68a4",
   "metadata": {},
   "outputs": [],
   "source": []
  },
  {
   "cell_type": "code",
   "execution_count": null,
   "id": "cd6a9eee-4e5e-45e6-b9bc-9d304162d4df",
   "metadata": {},
   "outputs": [],
   "source": []
  }
 ],
 "metadata": {
  "kernelspec": {
   "display_name": "Python 3",
   "language": "python",
   "name": "python3"
  },
  "language_info": {
   "codemirror_mode": {
    "name": "ipython",
    "version": 3
   },
   "file_extension": ".py",
   "mimetype": "text/x-python",
   "name": "python",
   "nbconvert_exporter": "python",
   "pygments_lexer": "ipython3",
   "version": "3.8.5"
  }
 },
 "nbformat": 4,
 "nbformat_minor": 5
}
