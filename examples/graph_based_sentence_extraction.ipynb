{
 "cells": [
  {
   "cell_type": "code",
   "execution_count": 7,
   "id": "999bdd41-d80f-4d54-b564-510225868495",
   "metadata": {},
   "outputs": [],
   "source": [
    "from text_rank.text_rank import TextRank"
   ]
  },
  {
   "cell_type": "markdown",
   "id": "15150490-8844-42ed-bc90-6b3056d0dacb",
   "metadata": {},
   "source": [
    "# Example Tokenizer"
   ]
  },
  {
   "cell_type": "code",
   "execution_count": 10,
   "id": "7ab748b5-1c30-42f6-93cc-f6ac7bbee139",
   "metadata": {},
   "outputs": [],
   "source": [
    "from typing import List\n",
    "\n",
    "class MyTokenizer:\n",
    "    def __call__(self, text: str) -> List[str]:\n",
    "        tokens: List[str] = text.split()\n",
    "        return tokens"
   ]
  },
  {
   "cell_type": "code",
   "execution_count": 11,
   "id": "b0c9019b-a730-42d4-92ee-3d1aa1beaaa0",
   "metadata": {},
   "outputs": [],
   "source": [
    "mytokenizer: MyTokenizer = MyTokenizer()\n",
    "summarizer = TextRank(mytokenizer)"
   ]
  },
  {
   "cell_type": "markdown",
   "id": "b2625e62-3cb2-4355-905d-a66945502140",
   "metadata": {},
   "source": [
    "# English Sad Sentence"
   ]
  },
  {
   "cell_type": "code",
   "execution_count": 19,
   "id": "68c52cdb-8a39-4631-98e0-32feacdb8fd4",
   "metadata": {},
   "outputs": [],
   "source": [
    "eng_sad_sentence = \"\"\"\n",
    "Picture perfect memories\n",
    "Scattered all around the floor\n",
    "Reaching for the phone cause\n",
    "I can't fight it anymore.\n",
    "And I wonder if I ever cross your mind.\n",
    "For me it happens all the time.\n",
    "It's a quarter after one.\n",
    "I'm all alone and I need you now.\n",
    "Said I wouldn't call, but I lost all control\n",
    "And I need you now.\n",
    "And I don't know how I can do without\n",
    "I just need you now.\n",
    "Another shot of whiskey\n",
    "Can't stop looking at the door.\n",
    "Wishing you'd come sweeping in the way you did before.\n",
    "And I wonder if I ever cross your mind.\n",
    "For me it happens all the time.\n",
    "It's a quarter after one.\n",
    "I'm a little drunk and I need you now.\n",
    "Said I wouldn't call, but I lost all control\n",
    "And I need you now.\n",
    "And I don't know how I can do\n",
    "\"\"\""
   ]
  },
  {
   "cell_type": "code",
   "execution_count": 20,
   "id": "c54e1fec-9f14-4c16-a11c-d213a2a3cd04",
   "metadata": {},
   "outputs": [],
   "source": [
    "embed_length = 1\n",
    "summarized_sentences = summarizer.summarize(eng_sad_sentence, embed_length)"
   ]
  },
  {
   "cell_type": "code",
   "execution_count": 21,
   "id": "439547a4-1a7b-431c-8323-076703632ee5",
   "metadata": {},
   "outputs": [
    {
     "name": "stdout",
     "output_type": "stream",
     "text": [
      "And I need you now\n"
     ]
    }
   ],
   "source": [
    "print(summarized_sentences)"
   ]
  },
  {
   "cell_type": "markdown",
   "id": "49be38a6-99e3-4178-93b8-2a80f9c1b336",
   "metadata": {},
   "source": [
    "# Korean Sad Sentence - 서른즈음에"
   ]
  },
  {
   "cell_type": "code",
   "execution_count": 18,
   "id": "6fe5ae8e-a3c4-4473-9e25-cd713c52884e",
   "metadata": {},
   "outputs": [],
   "source": [
    "kor_sad_sentence = \"\"\"\n",
    "Another day goes away\n",
    "Like the smoke of a cigarette\n",
    "In my small memory\n",
    "What are you living with\n",
    "Getting further and farther away\n",
    "I thought you were a young man staying\n",
    "In my empty heart\n",
    "I can't find anything more\n",
    "The seasons come back but\n",
    "Where is my love that has gone away\n",
    "I didn't even let go\n",
    "I'm not even leaving\n",
    "I get forgotten little by little\n",
    "I thought it was a staying love\n",
    "Another day goes away\n",
    "You're living with goodbye every day\n",
    "The seasons come back but\n",
    "Where is my love that has gone away\n",
    "I\n",
    "\"\"\""
   ]
  },
  {
   "cell_type": "code",
   "execution_count": 24,
   "id": "d43b3361-7cba-4681-b77d-2b05d84af87a",
   "metadata": {},
   "outputs": [],
   "source": [
    "embed_length = 2\n",
    "summarized_sentences = summarizer.summarize(kor_sad_sentence, embed_length)"
   ]
  },
  {
   "cell_type": "code",
   "execution_count": 25,
   "id": "42e97b6b-e072-4647-8776-0f90e980ba82",
   "metadata": {},
   "outputs": [
    {
     "name": "stdout",
     "output_type": "stream",
     "text": [
      "I thought you were a young man staying\n",
      "I thought it was a staying love\n"
     ]
    }
   ],
   "source": [
    "print(summarized_sentences)"
   ]
  },
  {
   "cell_type": "markdown",
   "id": "f0f6526c-0fe5-493a-a501-fb11444388a5",
   "metadata": {},
   "source": [
    "# Conclusion\n",
    "- 가장 중요한 문장을 뽑아내는 것은 괜찮을지도 모르겠음.\n",
    "- 문장이 많아지면 특정 문장이 제대로 대표한다고 하기는 어려울텐데?"
   ]
  },
  {
   "cell_type": "code",
   "execution_count": null,
   "id": "8af8e90b-e9ec-447d-9608-3c2c4586ca09",
   "metadata": {},
   "outputs": [],
   "source": []
  },
  {
   "cell_type": "code",
   "execution_count": null,
   "id": "98214c4b-d96a-4f55-bc87-ae3d82800e9d",
   "metadata": {},
   "outputs": [],
   "source": []
  },
  {
   "cell_type": "code",
   "execution_count": null,
   "id": "0e68b8c0-059f-4eec-b610-ed88755e746f",
   "metadata": {},
   "outputs": [],
   "source": []
  }
 ],
 "metadata": {
  "kernelspec": {
   "display_name": "Python 3",
   "language": "python",
   "name": "python3"
  },
  "language_info": {
   "codemirror_mode": {
    "name": "ipython",
    "version": 3
   },
   "file_extension": ".py",
   "mimetype": "text/x-python",
   "name": "python",
   "nbconvert_exporter": "python",
   "pygments_lexer": "ipython3",
   "version": "3.8.5"
  }
 },
 "nbformat": 4,
 "nbformat_minor": 5
}
